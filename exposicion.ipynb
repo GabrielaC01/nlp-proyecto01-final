{
 "cells": [
  {
   "cell_type": "markdown",
   "id": "60b2ca91",
   "metadata": {},
   "source": [
    "# Proyecto 01: Decodificadores avanzados para modelos Seq2Seq\n",
    "**Autor:** Gabriela  \n",
    "**Fecha:** Julio 2025  \n",
    "**Objetivo:** Comparar distintas estrategias de decodificación aplicadas a un Transformer Seq2Seq para traducción EN→ES, evaluando calidad (BLEU), latencia y uso de memoria"
   ]
  },
  {
   "cell_type": "markdown",
   "id": "df1b5cdc",
   "metadata": {},
   "source": [
    "## Introducción\n",
    "\n",
    "Los modelos de traducción automática basados en Transformer han demostrado alto desempeño, pero la calidad final de sus predicciones depende fuertemente del algoritmo de decodificación. Este proyecto compara cinco técnicas: Greedy, Beam Search, Top-k sampling, Top-p sampling y Diverse Beam Search, en función de su calidad (BLEU), tiempo de inferencia y consumo de memoria."
   ]
  },
  {
   "cell_type": "markdown",
   "id": "da802723",
   "metadata": {},
   "source": [
    "## Implementación"
   ]
  },
  {
   "cell_type": "markdown",
   "id": "33cb05a2",
   "metadata": {},
   "source": [
    "##### Carga del modelo preentrenado"
   ]
  },
  {
   "cell_type": "code",
   "execution_count": 23,
   "id": "810ec7c5",
   "metadata": {},
   "outputs": [
    {
     "data": {
      "text/plain": [
       "TransformerSeq2Seq(\n",
       "  (embedding): Embedding(10001, 128)\n",
       "  (positional_encoding): PositionalEncoding()\n",
       "  (transformer): Transformer(\n",
       "    (encoder): TransformerEncoder(\n",
       "      (layers): ModuleList(\n",
       "        (0-3): 4 x TransformerEncoderLayer(\n",
       "          (self_attn): MultiheadAttention(\n",
       "            (out_proj): NonDynamicallyQuantizableLinear(in_features=128, out_features=128, bias=True)\n",
       "          )\n",
       "          (linear1): Linear(in_features=128, out_features=256, bias=True)\n",
       "          (dropout): Dropout(p=0.1, inplace=False)\n",
       "          (linear2): Linear(in_features=256, out_features=128, bias=True)\n",
       "          (norm1): LayerNorm((128,), eps=1e-05, elementwise_affine=True)\n",
       "          (norm2): LayerNorm((128,), eps=1e-05, elementwise_affine=True)\n",
       "          (dropout1): Dropout(p=0.1, inplace=False)\n",
       "          (dropout2): Dropout(p=0.1, inplace=False)\n",
       "        )\n",
       "      )\n",
       "      (norm): LayerNorm((128,), eps=1e-05, elementwise_affine=True)\n",
       "    )\n",
       "    (decoder): TransformerDecoder(\n",
       "      (layers): ModuleList(\n",
       "        (0-3): 4 x TransformerDecoderLayer(\n",
       "          (self_attn): MultiheadAttention(\n",
       "            (out_proj): NonDynamicallyQuantizableLinear(in_features=128, out_features=128, bias=True)\n",
       "          )\n",
       "          (multihead_attn): MultiheadAttention(\n",
       "            (out_proj): NonDynamicallyQuantizableLinear(in_features=128, out_features=128, bias=True)\n",
       "          )\n",
       "          (linear1): Linear(in_features=128, out_features=256, bias=True)\n",
       "          (dropout): Dropout(p=0.1, inplace=False)\n",
       "          (linear2): Linear(in_features=256, out_features=128, bias=True)\n",
       "          (norm1): LayerNorm((128,), eps=1e-05, elementwise_affine=True)\n",
       "          (norm2): LayerNorm((128,), eps=1e-05, elementwise_affine=True)\n",
       "          (norm3): LayerNorm((128,), eps=1e-05, elementwise_affine=True)\n",
       "          (dropout1): Dropout(p=0.1, inplace=False)\n",
       "          (dropout2): Dropout(p=0.1, inplace=False)\n",
       "          (dropout3): Dropout(p=0.1, inplace=False)\n",
       "        )\n",
       "      )\n",
       "      (norm): LayerNorm((128,), eps=1e-05, elementwise_affine=True)\n",
       "    )\n",
       "  )\n",
       "  (fc_out): Linear(in_features=128, out_features=10001, bias=True)\n",
       ")"
      ]
     },
     "execution_count": 23,
     "metadata": {},
     "output_type": "execute_result"
    }
   ],
   "source": [
    "import torch\n",
    "from src.modelo_seq2seq import TransformerSeq2Seq\n",
    "from src.utils import cargar_vocabulario\n",
    "from src.config import config\n",
    "\n",
    "# Vocabulario\n",
    "vocab, vocab_inv = cargar_vocabulario()\n",
    "\n",
    "# Cargar modelo\n",
    "dispositivo = torch.device(\"cuda\" if torch.cuda.is_available() else \"cpu\")\n",
    "modelo_config = config.copy()\n",
    "modelo_config[\"vocab_size\"] = len(vocab) + 1\n",
    "modelo = TransformerSeq2Seq(modelo_config).to(dispositivo)\n",
    "modelo.load_state_dict(torch.load(config[\"modelo_guardado\"], map_location=dispositivo))\n",
    "modelo.eval()\n"
   ]
  },
  {
   "cell_type": "markdown",
   "id": "24115706",
   "metadata": {},
   "source": [
    "##### Inicialización de decodificadores"
   ]
  },
  {
   "cell_type": "code",
   "execution_count": 30,
   "id": "5eda5f8a",
   "metadata": {},
   "outputs": [],
   "source": [
    "from src.decoders.greedy import GreedyDecoder\n",
    "from src.decoders.beam import BeamSearchDecoder\n",
    "from src.decoders.topk import TopKSampler\n",
    "from src.decoders.topp import TopPSampler\n",
    "from src.decoders.diverse_beam import DiverseBeamDecoder\n",
    "\n",
    "greedy = GreedyDecoder(modelo, sos_token=config[\"sos_token\"], eos_token=config[\"eos_token\"])\n",
    "beam = BeamSearchDecoder(modelo, sos_token=config[\"sos_token\"], eos_token=config[\"eos_token\"], beam_width=3)\n",
    "topk = TopKSampler(modelo, sos_token=config[\"sos_token\"], eos_token=config[\"eos_token\"], k=5)\n",
    "topp = TopPSampler(modelo, sos_token=config[\"sos_token\"], eos_token=config[\"eos_token\"], p=0.8)\n",
    "diverse_beam = DiverseBeamDecoder(modelo, sos_token=config[\"sos_token\"], eos_token=config[\"eos_token\"], beam_width=3, diversity_strength=0.5)"
   ]
  },
  {
   "cell_type": "markdown",
   "id": "64e46758",
   "metadata": {},
   "source": [
    "##### Ejemplo de traducción"
   ]
  },
  {
   "cell_type": "code",
   "execution_count": 34,
   "id": "546201d4",
   "metadata": {},
   "outputs": [
    {
     "name": "stdout",
     "output_type": "stream",
     "text": [
      "Entrada: My mother is a doctor\n",
      "Greedy: mi madre es mi madre . <EOS>\n",
      "Beam Search: mi madre . <EOS>\n",
      "Top-K: mi madre está <UNK> a mi madre . <EOS>\n",
      "Top-P: es cierto . <EOS>\n",
      "Diverse Beam: mi madre . <EOS>\n",
      "--------------------------------------------------\n",
      "Entrada: She is a student\n",
      "Greedy: es una <UNK> . <EOS>\n",
      "Beam Search: es un <UNK> . <EOS>\n",
      "Top-K: es una <UNK> . <EOS>\n",
      "Top-P: está de la mujer . <EOS>\n",
      "Diverse Beam: es un <UNK> . <EOS>\n",
      "--------------------------------------------------\n"
     ]
    }
   ],
   "source": [
    "from src.datos import codificar\n",
    "\n",
    "# Frases de prueba\n",
    "frases = [\n",
    "    \"My mother is a doctor\",\n",
    "    \"She is a student\",\n",
    "]\n",
    "\n",
    "for enunciado in frases:\n",
    "    entrada = codificar(enunciado, vocab, config[\"max_len\"]).unsqueeze(0).to(dispositivo)\n",
    "\n",
    "    # Traducción con Greedy\n",
    "    tokens_greedy = greedy.decode(entrada)\n",
    "    traduccion_greedy = \" \".join([vocab_inv.get(tok, \"<UNK>\") for tok in tokens_greedy])\n",
    "\n",
    "    # Traducción con Beam Search\n",
    "    tokens_beam = beam.decode(entrada)\n",
    "    traduccion_beam = \" \".join([vocab_inv.get(tok, \"<UNK>\") for tok in tokens_beam])\n",
    "\n",
    "    # Traducción con TopK\n",
    "    tokens_topk = topk.decode(entrada)\n",
    "    traduccion_topk = \" \".join([vocab_inv.get(tok, \"<UNK>\") for tok in tokens_topk])\n",
    "\n",
    "    # Traducción con TopP\n",
    "    tokens_topp = topp.decode(entrada)\n",
    "    traduccion_topp = \" \".join([vocab_inv.get(tok, \"<UNK>\") for tok in tokens_topp])\n",
    "\n",
    "    # Traducción con Diverse Beam\n",
    "    tokens_diverse = diverse_beam.decode(entrada)\n",
    "    traduccion_diverse = \" \".join([vocab_inv.get(tok, \"<UNK>\") for tok in tokens_diverse])\n",
    "\n",
    "\n",
    "    print(\"Entrada:\", enunciado)\n",
    "    print(\"Greedy:\", traduccion_greedy)\n",
    "    print(\"Beam Search:\", traduccion_beam)\n",
    "    print(\"Top-K:\", traduccion_topk)\n",
    "    print(\"Top-P:\", traduccion_topp)\n",
    "    print(\"Diverse Beam:\", traduccion_diverse)\n",
    "    print(\"-\" * 50)\n"
   ]
  },
  {
   "cell_type": "markdown",
   "id": "6ca73668",
   "metadata": {},
   "source": [
    "## Resultados"
   ]
  },
  {
   "cell_type": "code",
   "execution_count": 10,
   "id": "693b65b7",
   "metadata": {},
   "outputs": [],
   "source": [
    "import matplotlib.pyplot as plt\n",
    "import pandas as pd\n",
    "import seaborn as sns"
   ]
  },
  {
   "cell_type": "code",
   "execution_count": 11,
   "id": "dd4df569",
   "metadata": {},
   "outputs": [],
   "source": [
    "# Cargar resultados de benchmarks\n",
    "df_bleu = pd.read_csv('benchmarks/results/bleu_vs_latency.csv')\n",
    "df_mem = pd.read_csv('benchmarks/results/memoria_vs_len.csv')"
   ]
  },
  {
   "cell_type": "code",
   "execution_count": 20,
   "id": "b9e14122",
   "metadata": {},
   "outputs": [
    {
     "data": {
      "text/html": [
       "<div>\n",
       "<style scoped>\n",
       "    .dataframe tbody tr th:only-of-type {\n",
       "        vertical-align: middle;\n",
       "    }\n",
       "\n",
       "    .dataframe tbody tr th {\n",
       "        vertical-align: top;\n",
       "    }\n",
       "\n",
       "    .dataframe thead th {\n",
       "        text-align: right;\n",
       "    }\n",
       "</style>\n",
       "<table border=\"1\" class=\"dataframe\">\n",
       "  <thead>\n",
       "    <tr style=\"text-align: right;\">\n",
       "      <th></th>\n",
       "      <th>decodificador</th>\n",
       "      <th>BLEU</th>\n",
       "      <th>latencia_promedio_s</th>\n",
       "    </tr>\n",
       "  </thead>\n",
       "  <tbody>\n",
       "    <tr>\n",
       "      <th>0</th>\n",
       "      <td>greedy</td>\n",
       "      <td>0.0030</td>\n",
       "      <td>0.0281</td>\n",
       "    </tr>\n",
       "    <tr>\n",
       "      <th>1</th>\n",
       "      <td>beam</td>\n",
       "      <td>0.0023</td>\n",
       "      <td>0.0802</td>\n",
       "    </tr>\n",
       "    <tr>\n",
       "      <th>2</th>\n",
       "      <td>topk</td>\n",
       "      <td>0.0030</td>\n",
       "      <td>0.0318</td>\n",
       "    </tr>\n",
       "    <tr>\n",
       "      <th>3</th>\n",
       "      <td>topp</td>\n",
       "      <td>0.0028</td>\n",
       "      <td>0.0407</td>\n",
       "    </tr>\n",
       "    <tr>\n",
       "      <th>4</th>\n",
       "      <td>diverse_beam</td>\n",
       "      <td>0.0022</td>\n",
       "      <td>0.0779</td>\n",
       "    </tr>\n",
       "  </tbody>\n",
       "</table>\n",
       "</div>"
      ],
      "text/plain": [
       "  decodificador    BLEU  latencia_promedio_s\n",
       "0        greedy  0.0030               0.0281\n",
       "1          beam  0.0023               0.0802\n",
       "2          topk  0.0030               0.0318\n",
       "3          topp  0.0028               0.0407\n",
       "4  diverse_beam  0.0022               0.0779"
      ]
     },
     "execution_count": 20,
     "metadata": {},
     "output_type": "execute_result"
    }
   ],
   "source": [
    "df_bleu"
   ]
  },
  {
   "cell_type": "code",
   "execution_count": 19,
   "id": "e1c6dc94",
   "metadata": {},
   "outputs": [
    {
     "data": {
      "text/html": [
       "<div>\n",
       "<style scoped>\n",
       "    .dataframe tbody tr th:only-of-type {\n",
       "        vertical-align: middle;\n",
       "    }\n",
       "\n",
       "    .dataframe tbody tr th {\n",
       "        vertical-align: top;\n",
       "    }\n",
       "\n",
       "    .dataframe thead th {\n",
       "        text-align: right;\n",
       "    }\n",
       "</style>\n",
       "<table border=\"1\" class=\"dataframe\">\n",
       "  <thead>\n",
       "    <tr style=\"text-align: right;\">\n",
       "      <th></th>\n",
       "      <th>BLEU</th>\n",
       "      <th>latencia_promedio_s</th>\n",
       "    </tr>\n",
       "  </thead>\n",
       "  <tbody>\n",
       "    <tr>\n",
       "      <th>count</th>\n",
       "      <td>5.000000</td>\n",
       "      <td>5.000000</td>\n",
       "    </tr>\n",
       "    <tr>\n",
       "      <th>mean</th>\n",
       "      <td>0.002660</td>\n",
       "      <td>0.051740</td>\n",
       "    </tr>\n",
       "    <tr>\n",
       "      <th>std</th>\n",
       "      <td>0.000385</td>\n",
       "      <td>0.025361</td>\n",
       "    </tr>\n",
       "    <tr>\n",
       "      <th>min</th>\n",
       "      <td>0.002200</td>\n",
       "      <td>0.028100</td>\n",
       "    </tr>\n",
       "    <tr>\n",
       "      <th>25%</th>\n",
       "      <td>0.002300</td>\n",
       "      <td>0.031800</td>\n",
       "    </tr>\n",
       "    <tr>\n",
       "      <th>50%</th>\n",
       "      <td>0.002800</td>\n",
       "      <td>0.040700</td>\n",
       "    </tr>\n",
       "    <tr>\n",
       "      <th>75%</th>\n",
       "      <td>0.003000</td>\n",
       "      <td>0.077900</td>\n",
       "    </tr>\n",
       "    <tr>\n",
       "      <th>max</th>\n",
       "      <td>0.003000</td>\n",
       "      <td>0.080200</td>\n",
       "    </tr>\n",
       "  </tbody>\n",
       "</table>\n",
       "</div>"
      ],
      "text/plain": [
       "           BLEU  latencia_promedio_s\n",
       "count  5.000000             5.000000\n",
       "mean   0.002660             0.051740\n",
       "std    0.000385             0.025361\n",
       "min    0.002200             0.028100\n",
       "25%    0.002300             0.031800\n",
       "50%    0.002800             0.040700\n",
       "75%    0.003000             0.077900\n",
       "max    0.003000             0.080200"
      ]
     },
     "execution_count": 19,
     "metadata": {},
     "output_type": "execute_result"
    }
   ],
   "source": [
    "df_bleu.describe()"
   ]
  },
  {
   "cell_type": "code",
   "execution_count": 13,
   "id": "285e9e93",
   "metadata": {},
   "outputs": [
    {
     "data": {
      "image/png": "[encoded data removed]",
      "text/plain": [
       "<Figure size 800x500 with 1 Axes>"
      ]
     },
     "metadata": {},
     "output_type": "display_data"
    }
   ],
   "source": [
    "# Gráfico calidad vs latencia\n",
    "plt.figure(figsize=(8, 5))\n",
    "plt.plot(df_bleu['decodificador'], df_bleu['BLEU'], label='BLEU')\n",
    "plt.plot(df_bleu['decodificador'], df_bleu['latencia_promedio_s'], label='Latencia')\n",
    "plt.xlabel('Decodificador')\n",
    "plt.title('Comparación de calidad vs latencia')\n",
    "plt.legend()\n",
    "plt.grid(True)\n",
    "plt.show()"
   ]
  },
  {
   "cell_type": "code",
   "execution_count": 18,
   "id": "5562d575",
   "metadata": {},
   "outputs": [
    {
     "data": {
      "text/html": [
       "<div>\n",
       "<style scoped>\n",
       "    .dataframe tbody tr th:only-of-type {\n",
       "        vertical-align: middle;\n",
       "    }\n",
       "\n",
       "    .dataframe tbody tr th {\n",
       "        vertical-align: top;\n",
       "    }\n",
       "\n",
       "    .dataframe thead th {\n",
       "        text-align: right;\n",
       "    }\n",
       "</style>\n",
       "<table border=\"1\" class=\"dataframe\">\n",
       "  <thead>\n",
       "    <tr style=\"text-align: right;\">\n",
       "      <th></th>\n",
       "      <th>Decodificador</th>\n",
       "      <th>Memoria promedio (MB)</th>\n",
       "      <th>Desvío estándar (MB)</th>\n",
       "      <th>Longitud promedio entrada</th>\n",
       "    </tr>\n",
       "  </thead>\n",
       "  <tbody>\n",
       "    <tr>\n",
       "      <th>0</th>\n",
       "      <td>beam</td>\n",
       "      <td>1078.58</td>\n",
       "      <td>0.0</td>\n",
       "      <td>19.552</td>\n",
       "    </tr>\n",
       "    <tr>\n",
       "      <th>1</th>\n",
       "      <td>diverse_beam</td>\n",
       "      <td>1260.21</td>\n",
       "      <td>0.0</td>\n",
       "      <td>19.552</td>\n",
       "    </tr>\n",
       "    <tr>\n",
       "      <th>2</th>\n",
       "      <td>greedy</td>\n",
       "      <td>1009.46</td>\n",
       "      <td>0.0</td>\n",
       "      <td>19.552</td>\n",
       "    </tr>\n",
       "    <tr>\n",
       "      <th>3</th>\n",
       "      <td>topk</td>\n",
       "      <td>1194.58</td>\n",
       "      <td>0.0</td>\n",
       "      <td>19.552</td>\n",
       "    </tr>\n",
       "    <tr>\n",
       "      <th>4</th>\n",
       "      <td>topp</td>\n",
       "      <td>1260.21</td>\n",
       "      <td>0.0</td>\n",
       "      <td>19.552</td>\n",
       "    </tr>\n",
       "  </tbody>\n",
       "</table>\n",
       "</div>"
      ],
      "text/plain": [
       "  Decodificador  Memoria promedio (MB)  Desvío estándar (MB)  \\\n",
       "0          beam                1078.58                   0.0   \n",
       "1  diverse_beam                1260.21                   0.0   \n",
       "2        greedy                1009.46                   0.0   \n",
       "3          topk                1194.58                   0.0   \n",
       "4          topp                1260.21                   0.0   \n",
       "\n",
       "   Longitud promedio entrada  \n",
       "0                     19.552  \n",
       "1                     19.552  \n",
       "2                     19.552  \n",
       "3                     19.552  \n",
       "4                     19.552  "
      ]
     },
     "execution_count": 18,
     "metadata": {},
     "output_type": "execute_result"
    }
   ],
   "source": [
    "# Calcular resumen: memoria + longitud promedio\n",
    "resumen_memoria = df_mem.groupby(\"decodificador\").agg({\n",
    "    \"memoria_MB\": [\"mean\", \"std\"],\n",
    "    \"longitud\": \"mean\"\n",
    "}).reset_index()\n",
    "\n",
    "resumen_memoria.columns = [\n",
    "    \"Decodificador\",\n",
    "    \"Memoria promedio (MB)\",\n",
    "    \"Desvío estándar (MB)\",\n",
    "    \"Longitud promedio entrada\"\n",
    "]\n",
    "\n",
    "resumen_memoria"
   ]
  },
  {
   "cell_type": "markdown",
   "id": "237af523",
   "metadata": {},
   "source": [
    "## Análisis\n",
    "\n",
    "- Todos los decodificadores tuvieron un BLEU muy bajo y similar (≈ 0.0026), sin diferencias significativas\n",
    "\n",
    "- Greedy fue el más rápido (0.0281 s) y también logró el mejor BLEU\n",
    "\n",
    "- Beam y Diverse Beam fueron los más lentos, sin mejorar la calidad\n",
    "\n",
    "- El uso de memoria fue constante por longitud de entrada (≈ 19.55 tokens), pero varió por decodificador\n",
    "\n",
    "- Greedy fue el más eficiente en memoria (~1009 MB), y Top-p/Diverse Beam los más pesados (~1260 MB)"
   ]
  }
 ],
 "metadata": {
  "kernelspec": {
   "display_name": ".venv",
   "language": "python",
   "name": "python3"
  },
  "language_info": {
   "codemirror_mode": {
    "name": "ipython",
    "version": 3
   },
   "file_extension": ".py",
   "mimetype": "text/x-python",
   "name": "python",
   "nbconvert_exporter": "python",
   "pygments_lexer": "ipython3",
   "version": "3.10.12"
  }
 },
 "nbformat": 4,
 "nbformat_minor": 5
}
